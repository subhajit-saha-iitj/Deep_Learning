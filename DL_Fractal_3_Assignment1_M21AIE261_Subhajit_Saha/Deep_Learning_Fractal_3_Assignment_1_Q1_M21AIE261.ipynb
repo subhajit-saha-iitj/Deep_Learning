{
  "nbformat": 4,
  "nbformat_minor": 0,
  "metadata": {
    "colab": {
      "provenance": []
    },
    "kernelspec": {
      "name": "python3",
      "display_name": "Python 3"
    },
    "language_info": {
      "name": "python"
    }
  },
  "cells": [
    {
      "cell_type": "code",
      "execution_count": 24,
      "metadata": {
        "id": "_OpEZAYrS5_l"
      },
      "outputs": [],
      "source": [
        "## Deep learning\n",
        "## Fractal 3 - Assignment 1\n",
        "## Subhajit Saha - M21AIE261"
      ]
    },
    {
      "cell_type": "code",
      "source": [
        "## Q1 - Implement AE with three layers of encoders and decoders each (from scratch on your own) on MNIST database and compare with inbuilt function.\n"
      ],
      "metadata": {
        "id": "uDefefhGTqFu"
      },
      "execution_count": 25,
      "outputs": []
    },
    {
      "cell_type": "code",
      "source": [
        "!pip install tensorflow"
      ],
      "metadata": {
        "colab": {
          "base_uri": "https://localhost:8080/"
        },
        "id": "wq4MbfHrUPoS",
        "outputId": "798f6b7b-a325-4a8c-8c0e-a770092841f1"
      },
      "execution_count": 26,
      "outputs": [
        {
          "output_type": "stream",
          "name": "stdout",
          "text": [
            "Looking in indexes: https://pypi.org/simple, https://us-python.pkg.dev/colab-wheels/public/simple/\n",
            "Requirement already satisfied: tensorflow in /usr/local/lib/python3.7/dist-packages (2.9.2)\n",
            "Requirement already satisfied: absl-py>=1.0.0 in /usr/local/lib/python3.7/dist-packages (from tensorflow) (1.3.0)\n",
            "Requirement already satisfied: six>=1.12.0 in /usr/local/lib/python3.7/dist-packages (from tensorflow) (1.15.0)\n",
            "Requirement already satisfied: grpcio<2.0,>=1.24.3 in /usr/local/lib/python3.7/dist-packages (from tensorflow) (1.50.0)\n",
            "Requirement already satisfied: keras-preprocessing>=1.1.1 in /usr/local/lib/python3.7/dist-packages (from tensorflow) (1.1.2)\n",
            "Requirement already satisfied: opt-einsum>=2.3.2 in /usr/local/lib/python3.7/dist-packages (from tensorflow) (3.3.0)\n",
            "Requirement already satisfied: setuptools in /usr/local/lib/python3.7/dist-packages (from tensorflow) (57.4.0)\n",
            "Requirement already satisfied: tensorflow-io-gcs-filesystem>=0.23.1 in /usr/local/lib/python3.7/dist-packages (from tensorflow) (0.27.0)\n",
            "Requirement already satisfied: tensorflow-estimator<2.10.0,>=2.9.0rc0 in /usr/local/lib/python3.7/dist-packages (from tensorflow) (2.9.0)\n",
            "Requirement already satisfied: h5py>=2.9.0 in /usr/local/lib/python3.7/dist-packages (from tensorflow) (3.1.0)\n",
            "Requirement already satisfied: packaging in /usr/local/lib/python3.7/dist-packages (from tensorflow) (21.3)\n",
            "Requirement already satisfied: keras<2.10.0,>=2.9.0rc0 in /usr/local/lib/python3.7/dist-packages (from tensorflow) (2.9.0)\n",
            "Requirement already satisfied: typing-extensions>=3.6.6 in /usr/local/lib/python3.7/dist-packages (from tensorflow) (4.1.1)\n",
            "Requirement already satisfied: libclang>=13.0.0 in /usr/local/lib/python3.7/dist-packages (from tensorflow) (14.0.6)\n",
            "Requirement already satisfied: protobuf<3.20,>=3.9.2 in /usr/local/lib/python3.7/dist-packages (from tensorflow) (3.19.6)\n",
            "Requirement already satisfied: termcolor>=1.1.0 in /usr/local/lib/python3.7/dist-packages (from tensorflow) (2.1.0)\n",
            "Requirement already satisfied: wrapt>=1.11.0 in /usr/local/lib/python3.7/dist-packages (from tensorflow) (1.14.1)\n",
            "Requirement already satisfied: numpy>=1.20 in /usr/local/lib/python3.7/dist-packages (from tensorflow) (1.21.6)\n",
            "Requirement already satisfied: astunparse>=1.6.0 in /usr/local/lib/python3.7/dist-packages (from tensorflow) (1.6.3)\n",
            "Requirement already satisfied: google-pasta>=0.1.1 in /usr/local/lib/python3.7/dist-packages (from tensorflow) (0.2.0)\n",
            "Requirement already satisfied: flatbuffers<2,>=1.12 in /usr/local/lib/python3.7/dist-packages (from tensorflow) (1.12)\n",
            "Requirement already satisfied: tensorboard<2.10,>=2.9 in /usr/local/lib/python3.7/dist-packages (from tensorflow) (2.9.1)\n",
            "Requirement already satisfied: gast<=0.4.0,>=0.2.1 in /usr/local/lib/python3.7/dist-packages (from tensorflow) (0.4.0)\n",
            "Requirement already satisfied: wheel<1.0,>=0.23.0 in /usr/local/lib/python3.7/dist-packages (from astunparse>=1.6.0->tensorflow) (0.38.3)\n",
            "Requirement already satisfied: cached-property in /usr/local/lib/python3.7/dist-packages (from h5py>=2.9.0->tensorflow) (1.5.2)\n",
            "Requirement already satisfied: markdown>=2.6.8 in /usr/local/lib/python3.7/dist-packages (from tensorboard<2.10,>=2.9->tensorflow) (3.4.1)\n",
            "Requirement already satisfied: google-auth<3,>=1.6.3 in /usr/local/lib/python3.7/dist-packages (from tensorboard<2.10,>=2.9->tensorflow) (2.14.1)\n",
            "Requirement already satisfied: google-auth-oauthlib<0.5,>=0.4.1 in /usr/local/lib/python3.7/dist-packages (from tensorboard<2.10,>=2.9->tensorflow) (0.4.6)\n",
            "Requirement already satisfied: requests<3,>=2.21.0 in /usr/local/lib/python3.7/dist-packages (from tensorboard<2.10,>=2.9->tensorflow) (2.23.0)\n",
            "Requirement already satisfied: tensorboard-data-server<0.7.0,>=0.6.0 in /usr/local/lib/python3.7/dist-packages (from tensorboard<2.10,>=2.9->tensorflow) (0.6.1)\n",
            "Requirement already satisfied: werkzeug>=1.0.1 in /usr/local/lib/python3.7/dist-packages (from tensorboard<2.10,>=2.9->tensorflow) (1.0.1)\n",
            "Requirement already satisfied: tensorboard-plugin-wit>=1.6.0 in /usr/local/lib/python3.7/dist-packages (from tensorboard<2.10,>=2.9->tensorflow) (1.8.1)\n",
            "Requirement already satisfied: rsa<5,>=3.1.4 in /usr/local/lib/python3.7/dist-packages (from google-auth<3,>=1.6.3->tensorboard<2.10,>=2.9->tensorflow) (4.9)\n",
            "Requirement already satisfied: pyasn1-modules>=0.2.1 in /usr/local/lib/python3.7/dist-packages (from google-auth<3,>=1.6.3->tensorboard<2.10,>=2.9->tensorflow) (0.2.8)\n",
            "Requirement already satisfied: cachetools<6.0,>=2.0.0 in /usr/local/lib/python3.7/dist-packages (from google-auth<3,>=1.6.3->tensorboard<2.10,>=2.9->tensorflow) (5.2.0)\n",
            "Requirement already satisfied: requests-oauthlib>=0.7.0 in /usr/local/lib/python3.7/dist-packages (from google-auth-oauthlib<0.5,>=0.4.1->tensorboard<2.10,>=2.9->tensorflow) (1.3.1)\n",
            "Requirement already satisfied: importlib-metadata>=4.4 in /usr/local/lib/python3.7/dist-packages (from markdown>=2.6.8->tensorboard<2.10,>=2.9->tensorflow) (4.13.0)\n",
            "Requirement already satisfied: zipp>=0.5 in /usr/local/lib/python3.7/dist-packages (from importlib-metadata>=4.4->markdown>=2.6.8->tensorboard<2.10,>=2.9->tensorflow) (3.10.0)\n",
            "Requirement already satisfied: pyasn1<0.5.0,>=0.4.6 in /usr/local/lib/python3.7/dist-packages (from pyasn1-modules>=0.2.1->google-auth<3,>=1.6.3->tensorboard<2.10,>=2.9->tensorflow) (0.4.8)\n",
            "Requirement already satisfied: chardet<4,>=3.0.2 in /usr/local/lib/python3.7/dist-packages (from requests<3,>=2.21.0->tensorboard<2.10,>=2.9->tensorflow) (3.0.4)\n",
            "Requirement already satisfied: certifi>=2017.4.17 in /usr/local/lib/python3.7/dist-packages (from requests<3,>=2.21.0->tensorboard<2.10,>=2.9->tensorflow) (2022.9.24)\n",
            "Requirement already satisfied: idna<3,>=2.5 in /usr/local/lib/python3.7/dist-packages (from requests<3,>=2.21.0->tensorboard<2.10,>=2.9->tensorflow) (2.10)\n",
            "Requirement already satisfied: urllib3!=1.25.0,!=1.25.1,<1.26,>=1.21.1 in /usr/local/lib/python3.7/dist-packages (from requests<3,>=2.21.0->tensorboard<2.10,>=2.9->tensorflow) (1.24.3)\n",
            "Requirement already satisfied: oauthlib>=3.0.0 in /usr/local/lib/python3.7/dist-packages (from requests-oauthlib>=0.7.0->google-auth-oauthlib<0.5,>=0.4.1->tensorboard<2.10,>=2.9->tensorflow) (3.2.2)\n",
            "Requirement already satisfied: pyparsing!=3.0.5,>=2.0.2 in /usr/local/lib/python3.7/dist-packages (from packaging->tensorflow) (3.0.9)\n"
          ]
        }
      ]
    },
    {
      "cell_type": "code",
      "source": [
        "!pip install numpy"
      ],
      "metadata": {
        "colab": {
          "base_uri": "https://localhost:8080/"
        },
        "id": "OPXqY32QUVby",
        "outputId": "9ec7456d-2d91-4be8-91c9-484063293e71"
      },
      "execution_count": 27,
      "outputs": [
        {
          "output_type": "stream",
          "name": "stdout",
          "text": [
            "Looking in indexes: https://pypi.org/simple, https://us-python.pkg.dev/colab-wheels/public/simple/\n",
            "Requirement already satisfied: numpy in /usr/local/lib/python3.7/dist-packages (1.21.6)\n"
          ]
        }
      ]
    },
    {
      "cell_type": "code",
      "source": [
        "!pip install pandas"
      ],
      "metadata": {
        "colab": {
          "base_uri": "https://localhost:8080/"
        },
        "id": "XKZB8aqpUgGe",
        "outputId": "b0142839-60f6-4c55-f0fb-b6d2a26df206"
      },
      "execution_count": 28,
      "outputs": [
        {
          "output_type": "stream",
          "name": "stdout",
          "text": [
            "Looking in indexes: https://pypi.org/simple, https://us-python.pkg.dev/colab-wheels/public/simple/\n",
            "Requirement already satisfied: pandas in /usr/local/lib/python3.7/dist-packages (1.3.5)\n",
            "Requirement already satisfied: numpy>=1.17.3 in /usr/local/lib/python3.7/dist-packages (from pandas) (1.21.6)\n",
            "Requirement already satisfied: python-dateutil>=2.7.3 in /usr/local/lib/python3.7/dist-packages (from pandas) (2.8.2)\n",
            "Requirement already satisfied: pytz>=2017.3 in /usr/local/lib/python3.7/dist-packages (from pandas) (2022.6)\n",
            "Requirement already satisfied: six>=1.5 in /usr/local/lib/python3.7/dist-packages (from python-dateutil>=2.7.3->pandas) (1.15.0)\n"
          ]
        }
      ]
    },
    {
      "cell_type": "code",
      "source": [
        "!pip install matplotlib"
      ],
      "metadata": {
        "colab": {
          "base_uri": "https://localhost:8080/"
        },
        "id": "NIS7DD0hUjMU",
        "outputId": "4971fa4e-9c0c-4e4f-8707-076e41da67bf"
      },
      "execution_count": 29,
      "outputs": [
        {
          "output_type": "stream",
          "name": "stdout",
          "text": [
            "Looking in indexes: https://pypi.org/simple, https://us-python.pkg.dev/colab-wheels/public/simple/\n",
            "Requirement already satisfied: matplotlib in /usr/local/lib/python3.7/dist-packages (3.2.2)\n",
            "Requirement already satisfied: numpy>=1.11 in /usr/local/lib/python3.7/dist-packages (from matplotlib) (1.21.6)\n",
            "Requirement already satisfied: kiwisolver>=1.0.1 in /usr/local/lib/python3.7/dist-packages (from matplotlib) (1.4.4)\n",
            "Requirement already satisfied: cycler>=0.10 in /usr/local/lib/python3.7/dist-packages (from matplotlib) (0.11.0)\n",
            "Requirement already satisfied: pyparsing!=2.0.4,!=2.1.2,!=2.1.6,>=2.0.1 in /usr/local/lib/python3.7/dist-packages (from matplotlib) (3.0.9)\n",
            "Requirement already satisfied: python-dateutil>=2.1 in /usr/local/lib/python3.7/dist-packages (from matplotlib) (2.8.2)\n",
            "Requirement already satisfied: typing-extensions in /usr/local/lib/python3.7/dist-packages (from kiwisolver>=1.0.1->matplotlib) (4.1.1)\n",
            "Requirement already satisfied: six>=1.5 in /usr/local/lib/python3.7/dist-packages (from python-dateutil>=2.1->matplotlib) (1.15.0)\n"
          ]
        }
      ]
    },
    {
      "cell_type": "code",
      "source": [
        "import numpy as np\n",
        "import pandas as pd\n",
        "import os\n",
        "import matplotlib.pyplot as plt\n",
        "from keras.datasets import mnist\n",
        "from keras.layers import Input, Dense, Conv2D, MaxPooling2D, UpSampling2D, Conv2DTranspose\n",
        "from keras.models import Model\n",
        "from keras.preprocessing import image"
      ],
      "metadata": {
        "id": "KAg0ikhnT4bk"
      },
      "execution_count": 30,
      "outputs": []
    },
    {
      "cell_type": "code",
      "source": [
        "## Get MNIST handwritten digit data\n",
        "(X_train, _), (X_test, _) = mnist.load_data()"
      ],
      "metadata": {
        "id": "OGq7YxnBUDPR"
      },
      "execution_count": 31,
      "outputs": []
    },
    {
      "cell_type": "code",
      "source": [
        "print(\"X_train\", X_train.shape)\n",
        "print(\"X_test\", X_test.shape)"
      ],
      "metadata": {
        "colab": {
          "base_uri": "https://localhost:8080/"
        },
        "id": "9OiT7LV0UNMk",
        "outputId": "bf9fccc1-4cf9-411b-f0a9-f614dfe60a18"
      },
      "execution_count": 32,
      "outputs": [
        {
          "output_type": "stream",
          "name": "stdout",
          "text": [
            "X_train (60000, 28, 28)\n",
            "X_test (10000, 28, 28)\n"
          ]
        }
      ]
    },
    {
      "cell_type": "code",
      "source": [
        "## Preprocess the data\n",
        "def pre_process(X):\n",
        "    X = X/255.0\n",
        "    X = X.reshape((len(X), 784))\n",
        "    return X\n",
        "\n",
        "X_train  =  pre_process(X_train)\n",
        "X_test  =  pre_process(X_test)\n",
        "\n",
        "print(\"X_train\", X_train.shape)\n",
        "print(\"X_test\", X_test.shape)"
      ],
      "metadata": {
        "colab": {
          "base_uri": "https://localhost:8080/"
        },
        "id": "o-ai6mHEUr9l",
        "outputId": "e6548584-cb01-4cf0-8c2d-6e04a40d2db0"
      },
      "execution_count": 33,
      "outputs": [
        {
          "output_type": "stream",
          "name": "stdout",
          "text": [
            "X_train (60000, 784)\n",
            "X_test (10000, 784)\n"
          ]
        }
      ]
    },
    {
      "cell_type": "code",
      "source": [
        "## Visualize the digits\n",
        "def show_data(X, n=10, height=28, width=28, title=\"\"):\n",
        "    plt.figure(figsize=(10, 3))\n",
        "    for i in range(n):\n",
        "        ax = plt.subplot(2,n,i+1)\n",
        "        plt.imshow(X[i].reshape((height,width)))\n",
        "        plt.gray()\n",
        "        ax.get_xaxis().set_visible(False)\n",
        "        ax.get_yaxis().set_visible(False)\n",
        "    plt.suptitle(title, fontsize = 20)"
      ],
      "metadata": {
        "id": "VvQ-r0SZUzBX"
      },
      "execution_count": 34,
      "outputs": []
    },
    {
      "cell_type": "code",
      "source": [
        "show_data(X_train, title=\"train data\")\n",
        "show_data(X_test, title=\"test data\")"
      ],
      "metadata": {
        "colab": {
          "base_uri": "https://localhost:8080/",
          "height": 217
        },
        "id": "MBRes0G4U46K",
        "outputId": "d52285de-a2c0-4e55-ccee-8f2ff2784cfc"
      },
      "execution_count": 35,
      "outputs": [
        {
          "output_type": "display_data",
          "data": {
            "text/plain": [
              "<Figure size 720x216 with 10 Axes>"
            ],
            "image/png": "[encoded data removed]"
          },
          "metadata": {
            "needs_background": "light"
          }
        },
        {
          "output_type": "display_data",
          "data": {
            "text/plain": [
              "<Figure size 720x216 with 10 Axes>"
            ],
            "image/png": "[encoded data removed]"
          },
          "metadata": {
            "needs_background": "light"
          }
        }
      ]
    },
    {
      "cell_type": "code",
      "source": [
        "### Build the digit Autoencoder on MNIST Dataset\n"
      ],
      "metadata": {
        "id": "EsYRqkJMU8ve"
      },
      "execution_count": 36,
      "outputs": []
    },
    {
      "cell_type": "code",
      "source": [
        "input_dim, output_dim = 784, 784\n",
        "encode_dim = 100\n",
        "hidden_dim = 256"
      ],
      "metadata": {
        "id": "EajFefmoVDpk"
      },
      "execution_count": 37,
      "outputs": []
    },
    {
      "cell_type": "code",
      "source": [
        "# encoder\n",
        "input_layer = Input(shape=(input_dim,), name=\"INPUT\")\n",
        "hidden_layer_1 = Dense(hidden_dim, activation='relu', name=\"HIDDEN_1\")(input_layer)\n",
        "\n",
        "# code\n",
        "code_layer = Dense(encode_dim, activation='relu', name=\"CODE\")(hidden_layer_1)\n",
        "\n",
        "# decoder\n",
        "hidden_layer_2 = Dense(hidden_dim, activation='relu', name=\"HIDDEN_2\")(code_layer)\n",
        "output_layer = Dense(output_dim, activation='sigmoid', name=\"OUTPUT\")(hidden_layer_2)"
      ],
      "metadata": {
        "id": "ezbLM2nSVGVV"
      },
      "execution_count": 38,
      "outputs": []
    },
    {
      "cell_type": "code",
      "source": [
        "AE = Model(input_layer, output_layer)\n",
        "AE.compile(optimizer='adam', loss='binary_crossentropy')\n",
        "AE.summary()"
      ],
      "metadata": {
        "colab": {
          "base_uri": "https://localhost:8080/"
        },
        "id": "EX-ECmkWVJNA",
        "outputId": "da1882e7-5895-4054-9457-a6652b00e9ae"
      },
      "execution_count": 39,
      "outputs": [
        {
          "output_type": "stream",
          "name": "stdout",
          "text": [
            "Model: \"model_2\"\n",
            "_________________________________________________________________\n",
            " Layer (type)                Output Shape              Param #   \n",
            "=================================================================\n",
            " INPUT (InputLayer)          [(None, 784)]             0         \n",
            "                                                                 \n",
            " HIDDEN_1 (Dense)            (None, 256)               200960    \n",
            "                                                                 \n",
            " CODE (Dense)                (None, 100)               25700     \n",
            "                                                                 \n",
            " HIDDEN_2 (Dense)            (None, 256)               25856     \n",
            "                                                                 \n",
            " OUTPUT (Dense)              (None, 784)               201488    \n",
            "                                                                 \n",
            "=================================================================\n",
            "Total params: 454,004\n",
            "Trainable params: 454,004\n",
            "Non-trainable params: 0\n",
            "_________________________________________________________________\n"
          ]
        }
      ]
    },
    {
      "cell_type": "code",
      "source": [
        "## Train the digit Autoencoder\n",
        "\n",
        "AE.fit(X_train, X_train, epochs=100)"
      ],
      "metadata": {
        "colab": {
          "base_uri": "https://localhost:8080/"
        },
        "id": "Zd0SU2xcVOE-",
        "outputId": "d218d841-cddc-475b-b6bb-2ab1f9e9070f"
      },
      "execution_count": 40,
      "outputs": [
        {
          "output_type": "stream",
          "name": "stdout",
          "text": [
            "Epoch 1/100\n",
            "1875/1875 [==============================] - 21s 11ms/step - loss: 0.1112\n",
            "Epoch 2/100\n",
            "1875/1875 [==============================] - 20s 11ms/step - loss: 0.0801\n",
            "Epoch 3/100\n",
            "1875/1875 [==============================] - 14s 7ms/step - loss: 0.0757\n",
            "Epoch 4/100\n",
            "1875/1875 [==============================] - 15s 8ms/step - loss: 0.0735\n",
            "Epoch 5/100\n",
            "1875/1875 [==============================] - 14s 8ms/step - loss: 0.0722\n",
            "Epoch 6/100\n",
            "1875/1875 [==============================] - 15s 8ms/step - loss: 0.0712\n",
            "Epoch 7/100\n",
            "1875/1875 [==============================] - 15s 8ms/step - loss: 0.0706\n",
            "Epoch 8/100\n",
            "1875/1875 [==============================] - 14s 8ms/step - loss: 0.0700\n",
            "Epoch 9/100\n",
            "1875/1875 [==============================] - 17s 9ms/step - loss: 0.0696\n",
            "Epoch 10/100\n",
            "1875/1875 [==============================] - 14s 7ms/step - loss: 0.0693\n",
            "Epoch 11/100\n",
            "1875/1875 [==============================] - 15s 8ms/step - loss: 0.0691\n",
            "Epoch 12/100\n",
            "1875/1875 [==============================] - 14s 7ms/step - loss: 0.0689\n",
            "Epoch 13/100\n",
            "1875/1875 [==============================] - 14s 7ms/step - loss: 0.0687\n",
            "Epoch 14/100\n",
            "1875/1875 [==============================] - 14s 8ms/step - loss: 0.0686\n",
            "Epoch 15/100\n",
            "1875/1875 [==============================] - 15s 8ms/step - loss: 0.0685\n",
            "Epoch 16/100\n",
            "1875/1875 [==============================] - 14s 7ms/step - loss: 0.0683\n",
            "Epoch 17/100\n",
            "1875/1875 [==============================] - 14s 7ms/step - loss: 0.0683\n",
            "Epoch 18/100\n",
            "1875/1875 [==============================] - 14s 7ms/step - loss: 0.0682\n",
            "Epoch 19/100\n",
            "1875/1875 [==============================] - 15s 8ms/step - loss: 0.0681\n",
            "Epoch 20/100\n",
            "1875/1875 [==============================] - 14s 8ms/step - loss: 0.0680\n",
            "Epoch 21/100\n",
            "1875/1875 [==============================] - 14s 7ms/step - loss: 0.0680\n",
            "Epoch 22/100\n",
            "1875/1875 [==============================] - 15s 8ms/step - loss: 0.0679\n",
            "Epoch 23/100\n",
            "1875/1875 [==============================] - 14s 7ms/step - loss: 0.0679\n",
            "Epoch 24/100\n",
            "1875/1875 [==============================] - 14s 7ms/step - loss: 0.0678\n",
            "Epoch 25/100\n",
            "1875/1875 [==============================] - 14s 7ms/step - loss: 0.0677\n",
            "Epoch 26/100\n",
            "1875/1875 [==============================] - 16s 9ms/step - loss: 0.0677\n",
            "Epoch 27/100\n",
            "1875/1875 [==============================] - 14s 8ms/step - loss: 0.0676\n",
            "Epoch 28/100\n",
            "1875/1875 [==============================] - 14s 8ms/step - loss: 0.0676\n",
            "Epoch 29/100\n",
            "1875/1875 [==============================] - 14s 8ms/step - loss: 0.0675\n",
            "Epoch 30/100\n",
            "1875/1875 [==============================] - 15s 8ms/step - loss: 0.0675\n",
            "Epoch 31/100\n",
            "1875/1875 [==============================] - 14s 7ms/step - loss: 0.0674\n",
            "Epoch 32/100\n",
            "1875/1875 [==============================] - 14s 8ms/step - loss: 0.0674\n",
            "Epoch 33/100\n",
            "1875/1875 [==============================] - 14s 8ms/step - loss: 0.0673\n",
            "Epoch 34/100\n",
            "1875/1875 [==============================] - 15s 8ms/step - loss: 0.0673\n",
            "Epoch 35/100\n",
            "1875/1875 [==============================] - 15s 8ms/step - loss: 0.0673\n",
            "Epoch 36/100\n",
            "1875/1875 [==============================] - 14s 7ms/step - loss: 0.0672\n",
            "Epoch 37/100\n",
            "1875/1875 [==============================] - 15s 8ms/step - loss: 0.0672\n",
            "Epoch 38/100\n",
            "1875/1875 [==============================] - 15s 8ms/step - loss: 0.0672\n",
            "Epoch 39/100\n",
            "1875/1875 [==============================] - 14s 8ms/step - loss: 0.0671\n",
            "Epoch 40/100\n",
            "1875/1875 [==============================] - 14s 8ms/step - loss: 0.0671\n",
            "Epoch 41/100\n",
            "1875/1875 [==============================] - 19s 10ms/step - loss: 0.0671\n",
            "Epoch 42/100\n",
            "1875/1875 [==============================] - 15s 8ms/step - loss: 0.0670\n",
            "Epoch 43/100\n",
            "1875/1875 [==============================] - 15s 8ms/step - loss: 0.0670\n",
            "Epoch 44/100\n",
            "1875/1875 [==============================] - 15s 8ms/step - loss: 0.0670\n",
            "Epoch 45/100\n",
            "1875/1875 [==============================] - 16s 8ms/step - loss: 0.0669\n",
            "Epoch 46/100\n",
            "1875/1875 [==============================] - 15s 8ms/step - loss: 0.0669\n",
            "Epoch 47/100\n",
            "1875/1875 [==============================] - 15s 8ms/step - loss: 0.0669\n",
            "Epoch 48/100\n",
            "1875/1875 [==============================] - 16s 8ms/step - loss: 0.0669\n",
            "Epoch 49/100\n",
            "1875/1875 [==============================] - 15s 8ms/step - loss: 0.0669\n",
            "Epoch 50/100\n",
            "1875/1875 [==============================] - 15s 8ms/step - loss: 0.0668\n",
            "Epoch 51/100\n",
            "1875/1875 [==============================] - 14s 8ms/step - loss: 0.0668\n",
            "Epoch 52/100\n",
            "1875/1875 [==============================] - 15s 8ms/step - loss: 0.0668\n",
            "Epoch 53/100\n",
            "1875/1875 [==============================] - 14s 8ms/step - loss: 0.0668\n",
            "Epoch 54/100\n",
            "1875/1875 [==============================] - 15s 8ms/step - loss: 0.0668\n",
            "Epoch 55/100\n",
            "1875/1875 [==============================] - 15s 8ms/step - loss: 0.0667\n",
            "Epoch 56/100\n",
            "1875/1875 [==============================] - 16s 8ms/step - loss: 0.0667\n",
            "Epoch 57/100\n",
            "1875/1875 [==============================] - 14s 8ms/step - loss: 0.0667\n",
            "Epoch 58/100\n",
            "1875/1875 [==============================] - 15s 8ms/step - loss: 0.0667\n",
            "Epoch 59/100\n",
            "1875/1875 [==============================] - 16s 8ms/step - loss: 0.0667\n",
            "Epoch 60/100\n",
            "1875/1875 [==============================] - 16s 8ms/step - loss: 0.0666\n",
            "Epoch 61/100\n",
            "1875/1875 [==============================] - 15s 8ms/step - loss: 0.0666\n",
            "Epoch 62/100\n",
            "1875/1875 [==============================] - 15s 8ms/step - loss: 0.0666\n",
            "Epoch 63/100\n",
            "1875/1875 [==============================] - 16s 8ms/step - loss: 0.0666\n",
            "Epoch 64/100\n",
            "1875/1875 [==============================] - 14s 8ms/step - loss: 0.0665\n",
            "Epoch 65/100\n",
            "1875/1875 [==============================] - 15s 8ms/step - loss: 0.0665\n",
            "Epoch 66/100\n",
            "1875/1875 [==============================] - 14s 8ms/step - loss: 0.0665\n",
            "Epoch 67/100\n",
            "1875/1875 [==============================] - 15s 8ms/step - loss: 0.0665\n",
            "Epoch 68/100\n",
            "1875/1875 [==============================] - 15s 8ms/step - loss: 0.0665\n",
            "Epoch 69/100\n",
            "1875/1875 [==============================] - 15s 8ms/step - loss: 0.0665\n",
            "Epoch 70/100\n",
            "1875/1875 [==============================] - 16s 9ms/step - loss: 0.0665\n",
            "Epoch 71/100\n",
            "1875/1875 [==============================] - 15s 8ms/step - loss: 0.0664\n",
            "Epoch 72/100\n",
            "1875/1875 [==============================] - 15s 8ms/step - loss: 0.0664\n",
            "Epoch 73/100\n",
            "1875/1875 [==============================] - 14s 8ms/step - loss: 0.0664\n",
            "Epoch 74/100\n",
            "1875/1875 [==============================] - 16s 9ms/step - loss: 0.0664\n",
            "Epoch 75/100\n",
            "1875/1875 [==============================] - 15s 8ms/step - loss: 0.0664\n",
            "Epoch 76/100\n",
            "1875/1875 [==============================] - 15s 8ms/step - loss: 0.0664\n",
            "Epoch 77/100\n",
            "1875/1875 [==============================] - 17s 9ms/step - loss: 0.0664\n",
            "Epoch 78/100\n",
            "1875/1875 [==============================] - 15s 8ms/step - loss: 0.0664\n",
            "Epoch 79/100\n",
            "1875/1875 [==============================] - 15s 8ms/step - loss: 0.0663\n",
            "Epoch 80/100\n",
            "1875/1875 [==============================] - 15s 8ms/step - loss: 0.0663\n",
            "Epoch 81/100\n",
            "1875/1875 [==============================] - 16s 8ms/step - loss: 0.0663\n",
            "Epoch 82/100\n",
            "1875/1875 [==============================] - 15s 8ms/step - loss: 0.0663\n",
            "Epoch 83/100\n",
            "1875/1875 [==============================] - 14s 8ms/step - loss: 0.0663\n",
            "Epoch 84/100\n",
            "1875/1875 [==============================] - 15s 8ms/step - loss: 0.0663\n",
            "Epoch 85/100\n",
            "1875/1875 [==============================] - 16s 8ms/step - loss: 0.0663\n",
            "Epoch 86/100\n",
            "1875/1875 [==============================] - 15s 8ms/step - loss: 0.0662\n",
            "Epoch 87/100\n",
            "1875/1875 [==============================] - 15s 8ms/step - loss: 0.0662\n",
            "Epoch 88/100\n",
            "1875/1875 [==============================] - 16s 8ms/step - loss: 0.0662\n",
            "Epoch 89/100\n",
            "1875/1875 [==============================] - 15s 8ms/step - loss: 0.0662\n",
            "Epoch 90/100\n",
            "1875/1875 [==============================] - 15s 8ms/step - loss: 0.0662\n",
            "Epoch 91/100\n",
            "1875/1875 [==============================] - 15s 8ms/step - loss: 0.0662\n",
            "Epoch 92/100\n",
            "1875/1875 [==============================] - 16s 9ms/step - loss: 0.0662\n",
            "Epoch 93/100\n",
            "1875/1875 [==============================] - 14s 8ms/step - loss: 0.0662\n",
            "Epoch 94/100\n",
            "1875/1875 [==============================] - 15s 8ms/step - loss: 0.0661\n",
            "Epoch 95/100\n",
            "1875/1875 [==============================] - 17s 9ms/step - loss: 0.0662\n",
            "Epoch 96/100\n",
            "1875/1875 [==============================] - 15s 8ms/step - loss: 0.0661\n",
            "Epoch 97/100\n",
            "1875/1875 [==============================] - 15s 8ms/step - loss: 0.0661\n",
            "Epoch 98/100\n",
            "1875/1875 [==============================] - 14s 8ms/step - loss: 0.0661\n",
            "Epoch 99/100\n",
            "1875/1875 [==============================] - 16s 8ms/step - loss: 0.0661\n",
            "Epoch 100/100\n",
            "1875/1875 [==============================] - 15s 8ms/step - loss: 0.0661\n"
          ]
        },
        {
          "output_type": "execute_result",
          "data": {
            "text/plain": [
              "<keras.callbacks.History at 0x7f86b625b810>"
            ]
          },
          "metadata": {},
          "execution_count": 40
        }
      ]
    },
    {
      "cell_type": "code",
      "source": [
        "## Get the decoded (reconstructed) data\n",
        "decoded_data = AE.predict(X_test)"
      ],
      "metadata": {
        "colab": {
          "base_uri": "https://localhost:8080/"
        },
        "id": "qaSkIXC9VVqF",
        "outputId": "d758ffeb-b9ec-44a7-d09b-f94293b2e25b"
      },
      "execution_count": 41,
      "outputs": [
        {
          "output_type": "stream",
          "name": "stdout",
          "text": [
            "313/313 [==============================] - 1s 4ms/step\n"
          ]
        }
      ]
    },
    {
      "cell_type": "code",
      "source": [
        "## Making a model to get the encoded representation (i.e. intermediate layer output) for a given input.\n",
        "get_encoded_data = Model(inputs=AE.input, outputs=AE.get_layer(\"CODE\").output)"
      ],
      "metadata": {
        "id": "ARiCHELuWC3K"
      },
      "execution_count": 42,
      "outputs": []
    },
    {
      "cell_type": "code",
      "source": [
        "## Get the encoded data\n",
        "encoded_data = get_encoded_data.predict(X_test)"
      ],
      "metadata": {
        "colab": {
          "base_uri": "https://localhost:8080/"
        },
        "id": "Cy_v1ZgCWLGj",
        "outputId": "9561a978-7d25-4c9f-c736-2cd3c7e09bb8"
      },
      "execution_count": 43,
      "outputs": [
        {
          "output_type": "stream",
          "name": "stdout",
          "text": [
            "313/313 [==============================] - 1s 2ms/step\n"
          ]
        }
      ]
    },
    {
      "cell_type": "code",
      "source": [
        "## Visualize the results on test set\n",
        "show_data(X_test, title=\"original data\")\n",
        "show_data(encoded_data, height=10, width=10, title=\"encoded data\")\n",
        "show_data(decoded_data, title=\"decoded data\")"
      ],
      "metadata": {
        "colab": {
          "base_uri": "https://localhost:8080/",
          "height": 317
        },
        "id": "fy0e2MNbWPmq",
        "outputId": "5a528d8d-95c8-457b-9def-3fe1695e2c65"
      },
      "execution_count": 44,
      "outputs": [
        {
          "output_type": "display_data",
          "data": {
            "text/plain": [
              "<Figure size 720x216 with 10 Axes>"
            ],
            "image/png": "[encoded data removed]"
          },
          "metadata": {
            "needs_background": "light"
          }
        },
        {
          "output_type": "display_data",
          "data": {
            "text/plain": [
              "<Figure size 720x216 with 10 Axes>"
            ],
            "image/png": "[encoded data removed]"
          },
          "metadata": {
            "needs_background": "light"
          }
        },
        {
          "output_type": "display_data",
          "data": {
            "text/plain": [
              "<Figure size 720x216 with 10 Axes>"
            ],
            "image/png": "[encoded data removed]"
          },
          "metadata": {
            "needs_background": "light"
          }
        }
      ]
    },
    {
      "cell_type": "code",
      "source": [],
      "metadata": {
        "id": "u_W_tRbJWUZs"
      },
      "execution_count": 44,
      "outputs": []
    }
  ]
}