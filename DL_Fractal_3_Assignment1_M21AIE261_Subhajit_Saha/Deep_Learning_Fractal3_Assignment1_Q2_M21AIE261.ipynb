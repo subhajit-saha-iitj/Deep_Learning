{
  "nbformat": 4,
  "nbformat_minor": 0,
  "metadata": {
    "colab": {
      "provenance": []
    },
    "kernelspec": {
      "name": "python3",
      "display_name": "Python 3"
    },
    "language_info": {
      "name": "python"
    }
  },
  "cells": [
    {
      "cell_type": "code",
      "source": [
        "## Deep Learning\n",
        "## Fractal 3 - Assignment 1\n",
        "## Subhajit Saha - M21AIE261"
      ],
      "metadata": {
        "id": "uWcMx7BEX-H-"
      },
      "execution_count": 11,
      "outputs": []
    },
    {
      "cell_type": "code",
      "execution_count": 12,
      "metadata": {
        "id": "_z-Tmv4q-cah"
      },
      "outputs": [],
      "source": [
        "## Q2: implement denoising AE (using AE from first question, convert into D-AE) and compare with inbuilt D-AE. (using MNIST database)"
      ]
    },
    {
      "cell_type": "code",
      "source": [
        "!pip install tensorflow"
      ],
      "metadata": {
        "colab": {
          "base_uri": "https://localhost:8080/"
        },
        "id": "8JApDGmpZIa1",
        "outputId": "ed8df205-897b-4b15-fdc0-69f6d8bee135"
      },
      "execution_count": 21,
      "outputs": [
        {
          "output_type": "stream",
          "name": "stdout",
          "text": [
            "Looking in indexes: https://pypi.org/simple, https://us-python.pkg.dev/colab-wheels/public/simple/\n",
            "Requirement already satisfied: tensorflow in /usr/local/lib/python3.7/dist-packages (2.9.2)\n",
            "Requirement already satisfied: six>=1.12.0 in /usr/local/lib/python3.7/dist-packages (from tensorflow) (1.15.0)\n",
            "Requirement already satisfied: grpcio<2.0,>=1.24.3 in /usr/local/lib/python3.7/dist-packages (from tensorflow) (1.50.0)\n",
            "Requirement already satisfied: numpy>=1.20 in /usr/local/lib/python3.7/dist-packages (from tensorflow) (1.21.6)\n",
            "Requirement already satisfied: packaging in /usr/local/lib/python3.7/dist-packages (from tensorflow) (21.3)\n",
            "Requirement already satisfied: opt-einsum>=2.3.2 in /usr/local/lib/python3.7/dist-packages (from tensorflow) (3.3.0)\n",
            "Requirement already satisfied: libclang>=13.0.0 in /usr/local/lib/python3.7/dist-packages (from tensorflow) (14.0.6)\n",
            "Requirement already satisfied: flatbuffers<2,>=1.12 in /usr/local/lib/python3.7/dist-packages (from tensorflow) (1.12)\n",
            "Requirement already satisfied: protobuf<3.20,>=3.9.2 in /usr/local/lib/python3.7/dist-packages (from tensorflow) (3.19.6)\n",
            "Requirement already satisfied: absl-py>=1.0.0 in /usr/local/lib/python3.7/dist-packages (from tensorflow) (1.3.0)\n",
            "Requirement already satisfied: tensorflow-io-gcs-filesystem>=0.23.1 in /usr/local/lib/python3.7/dist-packages (from tensorflow) (0.27.0)\n",
            "Requirement already satisfied: keras<2.10.0,>=2.9.0rc0 in /usr/local/lib/python3.7/dist-packages (from tensorflow) (2.9.0)\n",
            "Requirement already satisfied: gast<=0.4.0,>=0.2.1 in /usr/local/lib/python3.7/dist-packages (from tensorflow) (0.4.0)\n",
            "Requirement already satisfied: tensorflow-estimator<2.10.0,>=2.9.0rc0 in /usr/local/lib/python3.7/dist-packages (from tensorflow) (2.9.0)\n",
            "Requirement already satisfied: h5py>=2.9.0 in /usr/local/lib/python3.7/dist-packages (from tensorflow) (3.1.0)\n",
            "Requirement already satisfied: google-pasta>=0.1.1 in /usr/local/lib/python3.7/dist-packages (from tensorflow) (0.2.0)\n",
            "Requirement already satisfied: setuptools in /usr/local/lib/python3.7/dist-packages (from tensorflow) (57.4.0)\n",
            "Requirement already satisfied: tensorboard<2.10,>=2.9 in /usr/local/lib/python3.7/dist-packages (from tensorflow) (2.9.1)\n",
            "Requirement already satisfied: typing-extensions>=3.6.6 in /usr/local/lib/python3.7/dist-packages (from tensorflow) (4.1.1)\n",
            "Requirement already satisfied: wrapt>=1.11.0 in /usr/local/lib/python3.7/dist-packages (from tensorflow) (1.14.1)\n",
            "Requirement already satisfied: termcolor>=1.1.0 in /usr/local/lib/python3.7/dist-packages (from tensorflow) (2.1.0)\n",
            "Requirement already satisfied: keras-preprocessing>=1.1.1 in /usr/local/lib/python3.7/dist-packages (from tensorflow) (1.1.2)\n",
            "Requirement already satisfied: astunparse>=1.6.0 in /usr/local/lib/python3.7/dist-packages (from tensorflow) (1.6.3)\n",
            "Requirement already satisfied: wheel<1.0,>=0.23.0 in /usr/local/lib/python3.7/dist-packages (from astunparse>=1.6.0->tensorflow) (0.38.3)\n",
            "Requirement already satisfied: cached-property in /usr/local/lib/python3.7/dist-packages (from h5py>=2.9.0->tensorflow) (1.5.2)\n",
            "Requirement already satisfied: google-auth<3,>=1.6.3 in /usr/local/lib/python3.7/dist-packages (from tensorboard<2.10,>=2.9->tensorflow) (2.14.1)\n",
            "Requirement already satisfied: tensorboard-data-server<0.7.0,>=0.6.0 in /usr/local/lib/python3.7/dist-packages (from tensorboard<2.10,>=2.9->tensorflow) (0.6.1)\n",
            "Requirement already satisfied: tensorboard-plugin-wit>=1.6.0 in /usr/local/lib/python3.7/dist-packages (from tensorboard<2.10,>=2.9->tensorflow) (1.8.1)\n",
            "Requirement already satisfied: markdown>=2.6.8 in /usr/local/lib/python3.7/dist-packages (from tensorboard<2.10,>=2.9->tensorflow) (3.4.1)\n",
            "Requirement already satisfied: werkzeug>=1.0.1 in /usr/local/lib/python3.7/dist-packages (from tensorboard<2.10,>=2.9->tensorflow) (1.0.1)\n",
            "Requirement already satisfied: requests<3,>=2.21.0 in /usr/local/lib/python3.7/dist-packages (from tensorboard<2.10,>=2.9->tensorflow) (2.23.0)\n",
            "Requirement already satisfied: google-auth-oauthlib<0.5,>=0.4.1 in /usr/local/lib/python3.7/dist-packages (from tensorboard<2.10,>=2.9->tensorflow) (0.4.6)\n",
            "Requirement already satisfied: rsa<5,>=3.1.4 in /usr/local/lib/python3.7/dist-packages (from google-auth<3,>=1.6.3->tensorboard<2.10,>=2.9->tensorflow) (4.9)\n",
            "Requirement already satisfied: pyasn1-modules>=0.2.1 in /usr/local/lib/python3.7/dist-packages (from google-auth<3,>=1.6.3->tensorboard<2.10,>=2.9->tensorflow) (0.2.8)\n",
            "Requirement already satisfied: cachetools<6.0,>=2.0.0 in /usr/local/lib/python3.7/dist-packages (from google-auth<3,>=1.6.3->tensorboard<2.10,>=2.9->tensorflow) (5.2.0)\n",
            "Requirement already satisfied: requests-oauthlib>=0.7.0 in /usr/local/lib/python3.7/dist-packages (from google-auth-oauthlib<0.5,>=0.4.1->tensorboard<2.10,>=2.9->tensorflow) (1.3.1)\n",
            "Requirement already satisfied: importlib-metadata>=4.4 in /usr/local/lib/python3.7/dist-packages (from markdown>=2.6.8->tensorboard<2.10,>=2.9->tensorflow) (4.13.0)\n",
            "Requirement already satisfied: zipp>=0.5 in /usr/local/lib/python3.7/dist-packages (from importlib-metadata>=4.4->markdown>=2.6.8->tensorboard<2.10,>=2.9->tensorflow) (3.10.0)\n",
            "Requirement already satisfied: pyasn1<0.5.0,>=0.4.6 in /usr/local/lib/python3.7/dist-packages (from pyasn1-modules>=0.2.1->google-auth<3,>=1.6.3->tensorboard<2.10,>=2.9->tensorflow) (0.4.8)\n",
            "Requirement already satisfied: idna<3,>=2.5 in /usr/local/lib/python3.7/dist-packages (from requests<3,>=2.21.0->tensorboard<2.10,>=2.9->tensorflow) (2.10)\n",
            "Requirement already satisfied: certifi>=2017.4.17 in /usr/local/lib/python3.7/dist-packages (from requests<3,>=2.21.0->tensorboard<2.10,>=2.9->tensorflow) (2022.9.24)\n",
            "Requirement already satisfied: urllib3!=1.25.0,!=1.25.1,<1.26,>=1.21.1 in /usr/local/lib/python3.7/dist-packages (from requests<3,>=2.21.0->tensorboard<2.10,>=2.9->tensorflow) (1.24.3)\n",
            "Requirement already satisfied: chardet<4,>=3.0.2 in /usr/local/lib/python3.7/dist-packages (from requests<3,>=2.21.0->tensorboard<2.10,>=2.9->tensorflow) (3.0.4)\n",
            "Requirement already satisfied: oauthlib>=3.0.0 in /usr/local/lib/python3.7/dist-packages (from requests-oauthlib>=0.7.0->google-auth-oauthlib<0.5,>=0.4.1->tensorboard<2.10,>=2.9->tensorflow) (3.2.2)\n",
            "Requirement already satisfied: pyparsing!=3.0.5,>=2.0.2 in /usr/local/lib/python3.7/dist-packages (from packaging->tensorflow) (3.0.9)\n"
          ]
        }
      ]
    },
    {
      "cell_type": "code",
      "source": [
        "## Importinh required modules\n",
        "import numpy as np \n",
        "import pandas as pd \n",
        "\n"
      ],
      "metadata": {
        "id": "vb1Xpewh-jVN"
      },
      "execution_count": 13,
      "outputs": []
    },
    {
      "cell_type": "code",
      "source": [
        "# Input data files are available in the \"../input/\" directory.\n",
        "\n",
        "import os\n",
        "for dirname, _, filenames in os.walk('/kaggle/input'):\n",
        "    for filename in filenames:\n",
        "        print(os.path.join(dirname, filename))\n",
        "\n",
        "# Any results you write to the current directory are saved as output."
      ],
      "metadata": {
        "id": "uk9jHhyrYjCW"
      },
      "execution_count": 14,
      "outputs": []
    },
    {
      "cell_type": "code",
      "source": [
        "#Importing all the dependencies\n",
        "import tensorflow as tf\n",
        "# from keras.backend.tensorflow_backend import set_session\n",
        "from keras.backend import set_session\n",
        "import keras\n",
        "from keras.models import Model\n",
        "from keras.layers import Conv2D, MaxPooling2D, Dense, Input, Reshape, Flatten, Lambda, Conv2DTranspose,UpSampling2D\n",
        "from keras.preprocessing import backend as K\n",
        "import matplotlib.pyplot as plt\n",
        "import numpy as np\n",
        "from keras.datasets import mnist\n",
        "from keras import optimizers"
      ],
      "metadata": {
        "id": "8G9fiJRt-8WY"
      },
      "execution_count": 15,
      "outputs": []
    },
    {
      "cell_type": "code",
      "source": [
        "# download training and test data from mnist and reshape it\n",
        "\n",
        "(X_train, Y_train), (X_test, Y_test) = mnist.load_data()\n",
        "X_train = X_train.astype('float32') / 255.\n",
        "output_X_train = X_train.reshape(-1,28,28,1)\n",
        "\n",
        "X_test = X_test.astype('float32') / 255.\n",
        "output_X_test = X_test.reshape(-1,28,28,1)\n",
        "\n",
        "print(X_train.shape, X_test.shape)"
      ],
      "metadata": {
        "colab": {
          "base_uri": "https://localhost:8080/"
        },
        "id": "1MgcR8XK_C7p",
        "outputId": "adc85b45-5d4b-42bc-9ef9-be52ba421e26"
      },
      "execution_count": 16,
      "outputs": [
        {
          "output_type": "stream",
          "name": "stdout",
          "text": [
            "(60000, 28, 28) (10000, 28, 28)\n"
          ]
        }
      ]
    },
    {
      "cell_type": "code",
      "source": [
        "# adding some noise to data\n",
        "\n",
        "input_x_train = output_X_train + 0.5 * np.random.normal(loc=0.0, scale=1.0, size=output_X_train.shape) \n",
        "input_x_test = output_X_test + 0.5 * np.random.normal(loc=0.0, scale=1.0, size=output_X_test.shape)"
      ],
      "metadata": {
        "id": "NESjjoa0_bLR"
      },
      "execution_count": 17,
      "outputs": []
    },
    {
      "cell_type": "code",
      "source": [
        "input_img = Input(shape=(28, 28, 1))  # adapt this if using `channels_first` image data format\n",
        "\n",
        "x = Conv2D(32, (3, 3), activation='relu', padding='same')(input_img)\n",
        "x = MaxPooling2D((2, 2), padding='same')(x)\n",
        "x = Conv2D(32, (3, 3), activation='relu', padding='same')(x)\n",
        "encoded = MaxPooling2D((2, 2), padding='same')(x)\n",
        "\n",
        "# at this point the representation is (7, 7, 32)\n",
        "\n",
        "x = Conv2D(32, (3, 3), activation='relu', padding='same')(encoded)\n",
        "x = UpSampling2D((2, 2))(x)\n",
        "x = Conv2D(32, (3, 3), activation='relu', padding='same')(x)\n",
        "x = UpSampling2D((2, 2))(x)\n",
        "decoded = Conv2D(1, (3, 3), activation='sigmoid', padding='same')(x)"
      ],
      "metadata": {
        "id": "Jb-kbiLx_g8V"
      },
      "execution_count": 18,
      "outputs": []
    },
    {
      "cell_type": "code",
      "source": [
        "## implementing denoising AE (using AE from first question, convert into D-AE) and compare with inbuilt D-AE. (using MNIST database)"
      ],
      "metadata": {
        "id": "till8_F_Y51g"
      },
      "execution_count": 20,
      "outputs": []
    },
    {
      "cell_type": "code",
      "source": [
        "autoencoder = Model(input_img, decoded)\n",
        "m = 128\n",
        "n_epoch = 50\n",
        "adam = optimizers.Adam(learning_rate=0.0001, beta_1=0.9, beta_2=0.999, amsgrad=False)\n",
        "autoencoder.compile(optimizer=adam, loss='binary_crossentropy',metrics=['accuracy'])\n",
        "hist = autoencoder.fit(input_x_train,output_X_train, epochs=n_epoch, batch_size=m, shuffle=True,validation_split=0.20)"
      ],
      "metadata": {
        "colab": {
          "base_uri": "https://localhost:8080/"
        },
        "id": "gNiZDUIF_k4i",
        "outputId": "3a03b9bc-a258-474f-b6e2-528b0cb1914f"
      },
      "execution_count": 8,
      "outputs": [
        {
          "output_type": "stream",
          "name": "stdout",
          "text": [
            "Epoch 1/50\n",
            "375/375 [==============================] - 132s 347ms/step - loss: 0.2862 - accuracy: 0.8025 - val_loss: 0.1626 - val_accuracy: 0.8023\n",
            "Epoch 2/50\n",
            "375/375 [==============================] - 126s 336ms/step - loss: 0.1456 - accuracy: 0.8059 - val_loss: 0.1366 - val_accuracy: 0.8084\n",
            "Epoch 3/50\n",
            "375/375 [==============================] - 126s 336ms/step - loss: 0.1298 - accuracy: 0.8086 - val_loss: 0.1265 - val_accuracy: 0.8098\n",
            "Epoch 4/50\n",
            "375/375 [==============================] - 127s 339ms/step - loss: 0.1226 - accuracy: 0.8096 - val_loss: 0.1218 - val_accuracy: 0.8116\n",
            "Epoch 5/50\n",
            "375/375 [==============================] - 127s 340ms/step - loss: 0.1184 - accuracy: 0.8102 - val_loss: 0.1178 - val_accuracy: 0.8108\n",
            "Epoch 6/50\n",
            "375/375 [==============================] - 126s 336ms/step - loss: 0.1152 - accuracy: 0.8107 - val_loss: 0.1149 - val_accuracy: 0.8118\n",
            "Epoch 7/50\n",
            "375/375 [==============================] - 126s 337ms/step - loss: 0.1128 - accuracy: 0.8111 - val_loss: 0.1129 - val_accuracy: 0.8115\n",
            "Epoch 8/50\n",
            "375/375 [==============================] - 127s 339ms/step - loss: 0.1109 - accuracy: 0.8114 - val_loss: 0.1113 - val_accuracy: 0.8118\n",
            "Epoch 9/50\n",
            "375/375 [==============================] - 125s 333ms/step - loss: 0.1093 - accuracy: 0.8116 - val_loss: 0.1096 - val_accuracy: 0.8124\n",
            "Epoch 10/50\n",
            "375/375 [==============================] - 125s 332ms/step - loss: 0.1080 - accuracy: 0.8118 - val_loss: 0.1084 - val_accuracy: 0.8126\n",
            "Epoch 11/50\n",
            "375/375 [==============================] - 126s 337ms/step - loss: 0.1070 - accuracy: 0.8119 - val_loss: 0.1074 - val_accuracy: 0.8127\n",
            "Epoch 12/50\n",
            "375/375 [==============================] - 125s 333ms/step - loss: 0.1060 - accuracy: 0.8121 - val_loss: 0.1066 - val_accuracy: 0.8132\n",
            "Epoch 13/50\n",
            "375/375 [==============================] - 125s 333ms/step - loss: 0.1052 - accuracy: 0.8122 - val_loss: 0.1057 - val_accuracy: 0.8130\n",
            "Epoch 14/50\n",
            "375/375 [==============================] - 125s 332ms/step - loss: 0.1045 - accuracy: 0.8123 - val_loss: 0.1050 - val_accuracy: 0.8131\n",
            "Epoch 15/50\n",
            "375/375 [==============================] - 125s 333ms/step - loss: 0.1038 - accuracy: 0.8124 - val_loss: 0.1048 - val_accuracy: 0.8136\n",
            "Epoch 16/50\n",
            "375/375 [==============================] - 126s 336ms/step - loss: 0.1033 - accuracy: 0.8125 - val_loss: 0.1039 - val_accuracy: 0.8132\n",
            "Epoch 17/50\n",
            "375/375 [==============================] - 125s 333ms/step - loss: 0.1027 - accuracy: 0.8125 - val_loss: 0.1036 - val_accuracy: 0.8130\n",
            "Epoch 18/50\n",
            "375/375 [==============================] - 125s 332ms/step - loss: 0.1023 - accuracy: 0.8126 - val_loss: 0.1030 - val_accuracy: 0.8135\n",
            "Epoch 19/50\n",
            "375/375 [==============================] - 126s 336ms/step - loss: 0.1018 - accuracy: 0.8126 - val_loss: 0.1026 - val_accuracy: 0.8133\n",
            "Epoch 20/50\n",
            "375/375 [==============================] - 123s 329ms/step - loss: 0.1014 - accuracy: 0.8127 - val_loss: 0.1022 - val_accuracy: 0.8134\n",
            "Epoch 21/50\n",
            "375/375 [==============================] - 126s 335ms/step - loss: 0.1010 - accuracy: 0.8127 - val_loss: 0.1018 - val_accuracy: 0.8136\n",
            "Epoch 22/50\n",
            "375/375 [==============================] - 124s 332ms/step - loss: 0.1007 - accuracy: 0.8128 - val_loss: 0.1015 - val_accuracy: 0.8135\n",
            "Epoch 23/50\n",
            "375/375 [==============================] - 125s 334ms/step - loss: 0.1004 - accuracy: 0.8128 - val_loss: 0.1014 - val_accuracy: 0.8139\n",
            "Epoch 24/50\n",
            "375/375 [==============================] - 126s 336ms/step - loss: 0.1001 - accuracy: 0.8129 - val_loss: 0.1009 - val_accuracy: 0.8137\n",
            "Epoch 25/50\n",
            "375/375 [==============================] - 124s 330ms/step - loss: 0.0998 - accuracy: 0.8129 - val_loss: 0.1006 - val_accuracy: 0.8136\n",
            "Epoch 26/50\n",
            "375/375 [==============================] - 126s 337ms/step - loss: 0.0995 - accuracy: 0.8129 - val_loss: 0.1004 - val_accuracy: 0.8138\n",
            "Epoch 27/50\n",
            "375/375 [==============================] - 125s 333ms/step - loss: 0.0993 - accuracy: 0.8130 - val_loss: 0.1002 - val_accuracy: 0.8136\n",
            "Epoch 28/50\n",
            "375/375 [==============================] - 125s 334ms/step - loss: 0.0991 - accuracy: 0.8130 - val_loss: 0.1000 - val_accuracy: 0.8137\n",
            "Epoch 29/50\n",
            "375/375 [==============================] - 125s 334ms/step - loss: 0.0989 - accuracy: 0.8130 - val_loss: 0.0998 - val_accuracy: 0.8137\n",
            "Epoch 30/50\n",
            "375/375 [==============================] - 126s 337ms/step - loss: 0.0987 - accuracy: 0.8130 - val_loss: 0.0996 - val_accuracy: 0.8138\n",
            "Epoch 31/50\n",
            "375/375 [==============================] - 126s 335ms/step - loss: 0.0985 - accuracy: 0.8131 - val_loss: 0.0995 - val_accuracy: 0.8137\n",
            "Epoch 32/50\n",
            "375/375 [==============================] - 127s 340ms/step - loss: 0.0983 - accuracy: 0.8131 - val_loss: 0.0992 - val_accuracy: 0.8139\n",
            "Epoch 33/50\n",
            "375/375 [==============================] - 124s 331ms/step - loss: 0.0982 - accuracy: 0.8131 - val_loss: 0.0992 - val_accuracy: 0.8141\n",
            "Epoch 34/50\n",
            "375/375 [==============================] - 127s 338ms/step - loss: 0.0981 - accuracy: 0.8131 - val_loss: 0.0990 - val_accuracy: 0.8140\n",
            "Epoch 35/50\n",
            "375/375 [==============================] - 125s 334ms/step - loss: 0.0979 - accuracy: 0.8131 - val_loss: 0.0988 - val_accuracy: 0.8139\n",
            "Epoch 36/50\n",
            "375/375 [==============================] - 125s 334ms/step - loss: 0.0978 - accuracy: 0.8131 - val_loss: 0.0987 - val_accuracy: 0.8140\n",
            "Epoch 37/50\n",
            "375/375 [==============================] - 125s 334ms/step - loss: 0.0976 - accuracy: 0.8131 - val_loss: 0.0986 - val_accuracy: 0.8139\n",
            "Epoch 38/50\n",
            "375/375 [==============================] - 125s 333ms/step - loss: 0.0975 - accuracy: 0.8132 - val_loss: 0.0986 - val_accuracy: 0.8137\n",
            "Epoch 39/50\n",
            "375/375 [==============================] - 125s 333ms/step - loss: 0.0974 - accuracy: 0.8132 - val_loss: 0.0984 - val_accuracy: 0.8141\n",
            "Epoch 40/50\n",
            "375/375 [==============================] - 126s 336ms/step - loss: 0.0973 - accuracy: 0.8132 - val_loss: 0.0985 - val_accuracy: 0.8137\n",
            "Epoch 41/50\n",
            "375/375 [==============================] - 124s 331ms/step - loss: 0.0972 - accuracy: 0.8132 - val_loss: 0.0982 - val_accuracy: 0.8141\n",
            "Epoch 42/50\n",
            "375/375 [==============================] - 127s 338ms/step - loss: 0.0971 - accuracy: 0.8132 - val_loss: 0.0980 - val_accuracy: 0.8140\n",
            "Epoch 43/50\n",
            "375/375 [==============================] - 124s 331ms/step - loss: 0.0970 - accuracy: 0.8132 - val_loss: 0.0980 - val_accuracy: 0.8138\n",
            "Epoch 44/50\n",
            "375/375 [==============================] - 125s 334ms/step - loss: 0.0969 - accuracy: 0.8132 - val_loss: 0.0979 - val_accuracy: 0.8140\n",
            "Epoch 45/50\n",
            "375/375 [==============================] - 125s 334ms/step - loss: 0.0968 - accuracy: 0.8132 - val_loss: 0.0978 - val_accuracy: 0.8139\n",
            "Epoch 46/50\n",
            "375/375 [==============================] - 125s 334ms/step - loss: 0.0967 - accuracy: 0.8133 - val_loss: 0.0976 - val_accuracy: 0.8140\n",
            "Epoch 47/50\n",
            "375/375 [==============================] - 124s 331ms/step - loss: 0.0966 - accuracy: 0.8133 - val_loss: 0.0980 - val_accuracy: 0.8136\n",
            "Epoch 48/50\n",
            "375/375 [==============================] - 126s 337ms/step - loss: 0.0965 - accuracy: 0.8133 - val_loss: 0.0976 - val_accuracy: 0.8139\n",
            "Epoch 49/50\n",
            "375/375 [==============================] - 124s 331ms/step - loss: 0.0965 - accuracy: 0.8133 - val_loss: 0.0975 - val_accuracy: 0.8139\n",
            "Epoch 50/50\n",
            "375/375 [==============================] - 126s 335ms/step - loss: 0.0964 - accuracy: 0.8133 - val_loss: 0.0974 - val_accuracy: 0.8142\n"
          ]
        }
      ]
    },
    {
      "cell_type": "code",
      "source": [],
      "metadata": {
        "id": "r6BLcRGn_n7K"
      },
      "execution_count": null,
      "outputs": []
    }
  ]
}